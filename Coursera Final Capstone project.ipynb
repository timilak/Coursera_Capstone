{
    "nbformat_minor": 1, 
    "cells": [
        {
            "source": "My idea is to find the various restaurants, cafes, and other places to eat in the city of Vancouver and cluster them based on their locations and ratings. This would target a wide audience, i.e, anyone who may be looking to eat outside based on the ratings of the eateries.", 
            "cell_type": "markdown", 
            "metadata": {
                "collapsed": true
            }
        }, 
        {
            "source": "For this problem I will be using mainly the foursquare api and its location data. Along with that I will use the KNN clustering method for creating the clusters. ", 
            "cell_type": "markdown", 
            "metadata": {}
        }, 
        {
            "execution_count": null, 
            "cell_type": "code", 
            "metadata": {}, 
            "outputs": [], 
            "source": ""
        }
    ], 
    "metadata": {
        "kernelspec": {
            "display_name": "Python 3.6", 
            "name": "python3", 
            "language": "python"
        }, 
        "language_info": {
            "mimetype": "text/x-python", 
            "nbconvert_exporter": "python", 
            "version": "3.6.8", 
            "name": "python", 
            "file_extension": ".py", 
            "pygments_lexer": "ipython3", 
            "codemirror_mode": {
                "version": 3, 
                "name": "ipython"
            }
        }
    }, 
    "nbformat": 4
}